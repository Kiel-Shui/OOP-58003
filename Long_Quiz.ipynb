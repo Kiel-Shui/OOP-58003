{
  "nbformat": 4,
  "nbformat_minor": 0,
  "metadata": {
    "colab": {
      "name": "Long Quiz.ipynb",
      "provenance": [],
      "authorship_tag": "ABX9TyOaGw5QD3lO+Q963GPUvRPW",
      "include_colab_link": true
    },
    "kernelspec": {
      "name": "python3",
      "display_name": "Python 3"
    },
    "language_info": {
      "name": "python"
    }
  },
  "cells": [
    {
      "cell_type": "markdown",
      "metadata": {
        "id": "view-in-github",
        "colab_type": "text"
      },
      "source": [
        "<a href=\"https://colab.research.google.com/github/Kiel-Shui/OOP-58003/blob/main/Long_Quiz.ipynb\" target=\"_parent\"><img src=\"https://colab.research.google.com/assets/colab-badge.svg\" alt=\"Open In Colab\"/></a>"
      ]
    },
    {
      "cell_type": "code",
      "execution_count": 15,
      "metadata": {
        "colab": {
          "base_uri": "https://localhost:8080/"
        },
        "id": "w7GhivkRke_2",
        "outputId": "1ae143a2-8111-469d-aa0a-ef6ddadae337"
      },
      "outputs": [
        {
          "output_type": "stream",
          "name": "stdout",
          "text": [
            "Account Number :  201213736\n",
            "Account Name :  Rendell\n",
            "Account Balance : ₱ 5500\n"
          ]
        }
      ],
      "source": [
        "class BankAccount:\n",
        "    \n",
        "    def __init__(self,AccountNumber, Name, balance):\n",
        "        self.AccountNumber = AccountNumber\n",
        "        self.Name = Name\n",
        "        self.balance = balance\n",
        "        \n",
        "    \n",
        "    def Deposit(self , d ):\n",
        "        self.balance = self.balance + d\n",
        "        \n",
        "    \n",
        "    def display(self):\n",
        "        print(\"Account Number : \" , self.AccountNumber)\n",
        "        print(\"Account Name : \" , self.Name)\n",
        "        print(\"Account Balance : \" \"₱\",self.balance)\n",
        "        \n",
        "  \n",
        "NewAccount = BankAccount(201213736, \"Rendell\", 5000)\n",
        "NewAccount.Deposit(500)\n",
        "NewAccount.display()\n"
      ]
    }
  ]
}