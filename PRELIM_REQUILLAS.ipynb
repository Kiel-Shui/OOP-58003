{
  "nbformat": 4,
  "nbformat_minor": 0,
  "metadata": {
    "colab": {
      "name": "PRELIM_REQUILLAS.ipynb",
      "provenance": [],
      "authorship_tag": "ABX9TyOP5KBKFovl6VNjHz0prmbL",
      "include_colab_link": true
    },
    "kernelspec": {
      "name": "python3",
      "display_name": "Python 3"
    },
    "language_info": {
      "name": "python"
    }
  },
  "cells": [
    {
      "cell_type": "markdown",
      "metadata": {
        "id": "view-in-github",
        "colab_type": "text"
      },
      "source": [
        "<a href=\"https://colab.research.google.com/github/Kiel-Shui/OOP-58003/blob/main/PRELIM_REQUILLAS.ipynb\" target=\"_parent\"><img src=\"https://colab.research.google.com/assets/colab-badge.svg\" alt=\"Open In Colab\"/></a>"
      ]
    },
    {
      "cell_type": "code",
      "execution_count": 12,
      "metadata": {
        "colab": {
          "base_uri": "https://localhost:8080/"
        },
        "id": "EDXPe_rqSDws",
        "outputId": "350f3631-37c6-4f38-d8d3-c81f151b6e29"
      },
      "outputs": [
        {
          "output_type": "stream",
          "name": "stdout",
          "text": [
            "Student_Name: Rendell Kyle Requillas\n",
            "Age: 28\n",
            "Student_Number: 201213636\n",
            "Course: Computer Engineering\n"
          ]
        }
      ],
      "source": [
        "def Student_Info():\n",
        "    Student_Name =  \"Rendell Kyle Requillas\"\n",
        "    Age = 28\n",
        "    Student_Number = 201213636\n",
        "    Course = \"Computer Engineering\"\n",
        "    print(\"Student_Name: {}\\nAge: {}\\nStudent_Number: {}\\nCourse: {}\".format(Student_Name, Age, Student_Number, Course))\n",
        "\n",
        "Student_Info()\n",
        "\n",
        "class Student:\n",
        "  Name = 'Rendell Kyle'\n",
        "  Student_No = 201213736\n",
        "  Age = 28\n",
        "  School = 'Adamson University'\n",
        "  Course = 'Computer Engineering'\n"
      ]
    }
  ]
}