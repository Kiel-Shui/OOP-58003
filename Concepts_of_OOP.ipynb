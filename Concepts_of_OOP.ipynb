{
  "nbformat": 4,
  "nbformat_minor": 0,
  "metadata": {
    "colab": {
      "name": "Concepts of OOP.ipynb",
      "provenance": [],
      "authorship_tag": "ABX9TyOFRscdrcGQ8fMtZEim9QbI",
      "include_colab_link": true
    },
    "kernelspec": {
      "name": "python3",
      "display_name": "Python 3"
    },
    "language_info": {
      "name": "python"
    }
  },
  "cells": [
    {
      "cell_type": "markdown",
      "metadata": {
        "id": "view-in-github",
        "colab_type": "text"
      },
      "source": [
        "<a href=\"https://colab.research.google.com/github/Kiel-Shui/OOP-58003/blob/main/Concepts_of_OOP.ipynb\" target=\"_parent\"><img src=\"https://colab.research.google.com/assets/colab-badge.svg\" alt=\"Open In Colab\"/></a>"
      ]
    },
    {
      "cell_type": "markdown",
      "source": [
        "Class"
      ],
      "metadata": {
        "id": "cPo-GyhENH16"
      }
    },
    {
      "cell_type": "code",
      "execution_count": 1,
      "metadata": {
        "id": "rRELvVgsM0-E"
      },
      "outputs": [],
      "source": [
        "class Car:\n",
        "  pass"
      ]
    },
    {
      "cell_type": "markdown",
      "source": [
        "Objects and Object Instantiation"
      ],
      "metadata": {
        "id": "p-EcbM7yNTKE"
      }
    },
    {
      "cell_type": "code",
      "source": [
        "obj1=Car()\n",
        "print(obj1)"
      ],
      "metadata": {
        "colab": {
          "base_uri": "https://localhost:8080/"
        },
        "id": "z1HftNK2NVHg",
        "outputId": "b57ef183-f082-40b9-ae38-aab4d967694a"
      },
      "execution_count": 3,
      "outputs": [
        {
          "output_type": "stream",
          "name": "stdout",
          "text": [
            "<__main__.Car object at 0x7fab1046c610>\n"
          ]
        }
      ]
    },
    {
      "cell_type": "markdown",
      "source": [
        "Class Constructor"
      ],
      "metadata": {
        "id": "6asvz_wwNnYY"
      }
    },
    {
      "cell_type": "code",
      "source": [
        "class Car:\n",
        "    def __init__(self, name, color):\n",
        "        self.name = name\n",
        "        self.color = color\n"
      ],
      "metadata": {
        "id": "OE1Vr5rFNpNp"
      },
      "execution_count": 4,
      "outputs": []
    },
    {
      "cell_type": "markdown",
      "source": [
        "Class Methods"
      ],
      "metadata": {
        "id": "6FyzwEW6NwVP"
      }
    },
    {
      "cell_type": "code",
      "source": [
        "class Car:   \n",
        "    car_type = \"Sedan\" \n",
        "\n",
        "    def __init__(self, name, mileage):\n",
        "        self.name = name \n",
        "        self.mileage = mileage \n",
        "\n",
        "    def description(self):                 \n",
        "        return \"The {self.name} car gives the mileage of {self.mileage} km/l\"\n",
        "\n",
        "    def max_speed(self, speed):\n",
        "        return \"The {name} runs at the maximum speed of {speed} km/hr\"\n",
        "obj2 = Car(\"Honda City\",24.1)\n",
        "print(obj2.description())\n",
        "print(obj2.max_speed(150))\n"
      ],
      "metadata": {
        "colab": {
          "base_uri": "https://localhost:8080/"
        },
        "id": "2O4qGPjyNxlz",
        "outputId": "f89d9f15-a577-48da-d482-792806f62e92"
      },
      "execution_count": 13,
      "outputs": [
        {
          "output_type": "stream",
          "name": "stdout",
          "text": [
            "The {self.name} car gives the mileage of {self.mileage} km/l\n",
            "The {name} runs at the maximum speed of {speed} km/hr\n"
          ]
        }
      ]
    },
    {
      "cell_type": "markdown",
      "source": [
        "Inheritance"
      ],
      "metadata": {
        "id": "5AJPXo2HPA1Q"
      }
    },
    {
      "cell_type": "code",
      "source": [
        "class Car:          \n",
        "\n",
        "    def __init__(self, name, mileage):\n",
        "        self.name = name \n",
        "        self.mileage = mileage \n",
        "\n",
        "    def description(self):                \n",
        "        return f\"The {self.name} car gives the mileage of {self.mileage}km/l\"\n",
        "\n",
        "class BMW(Car):     \n",
        "    pass\n",
        "\n",
        "class Audi(Car):     \n",
        "    def audi_desc(self):\n",
        "        return \"This is the description method of class Audi.\"\n",
        "obj1 = BMW(\"BMW 7-series\",39.53)\n",
        "print(obj1.description())\n",
        "\n",
        "obj2 = Audi(\"Audi A8 L\",14)\n",
        "print(obj2.description())\n",
        "print(obj2.audi_desc())\n"
      ],
      "metadata": {
        "colab": {
          "base_uri": "https://localhost:8080/"
        },
        "id": "MkOT7gyHPC1S",
        "outputId": "f6f08b20-37fb-43e8-8125-c944904349bd"
      },
      "execution_count": 20,
      "outputs": [
        {
          "output_type": "stream",
          "name": "stdout",
          "text": [
            "The BMW 7-series car gives the mileage of 39.53km/l\n",
            "The Audi A8 L car gives the mileage of 14km/l\n",
            "This is the description method of class Audi.\n"
          ]
        }
      ]
    },
    {
      "cell_type": "markdown",
      "source": [
        "Encapsulation"
      ],
      "metadata": {
        "id": "MHS-NzPTPu0-"
      }
    },
    {
      "cell_type": "code",
      "source": [
        "def __init__(self, name, mileage):\n",
        "        self.name = name               \n",
        "        self.mileage = mileage \n",
        "\n",
        "def description(self):                \n",
        "        return f\"The {self.name} car gives the mileage of {self.mileage}km/l\"\n",
        "\n",
        "obj = Car(\"BMW 7-series\",39.53)\n",
        "print(obj.description())\n",
        "\n",
        "\n",
        "print(obj.name)\n",
        "print(obj.mileage)\n"
      ],
      "metadata": {
        "colab": {
          "base_uri": "https://localhost:8080/"
        },
        "id": "G6zrjdqdPwYT",
        "outputId": "69b5d7fc-2f2d-4e1b-f69f-2b7e4c995d8a"
      },
      "execution_count": 25,
      "outputs": [
        {
          "output_type": "stream",
          "name": "stdout",
          "text": [
            "The BMW 7-series car gives the mileage of 39.53km/l\n",
            "BMW 7-series\n",
            "39.53\n"
          ]
        }
      ]
    },
    {
      "cell_type": "markdown",
      "source": [
        "Application - Include the Python program that displays your fullname (Surname, First Name), and name your class as OOP_58003"
      ],
      "metadata": {
        "id": "cKunenLRQPYg"
      }
    },
    {
      "cell_type": "code",
      "source": [
        "class person:\n",
        "        def __init__(self,firstname,lastname):\n",
        "            self.first = firstname\n",
        "            self.last = lastname\n",
        "\n",
        "myname = person(\"Rendell Kyle\",\"Requillas\")\n",
        "print(myname.last, myname.first)"
      ],
      "metadata": {
        "colab": {
          "base_uri": "https://localhost:8080/"
        },
        "id": "vK0jxYfSTvuD",
        "outputId": "e84bc838-ac4f-437d-8e55-9812865fb4c1"
      },
      "execution_count": 36,
      "outputs": [
        {
          "output_type": "stream",
          "name": "stdout",
          "text": [
            "Requillas Rendell Kyle\n"
          ]
        }
      ]
    }
  ]
}