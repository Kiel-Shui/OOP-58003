{
  "nbformat": 4,
  "nbformat_minor": 0,
  "metadata": {
    "colab": {
      "name": "Fundamentals of Python.ipynb",
      "provenance": [],
      "authorship_tag": "ABX9TyPl9rTKoaCj1Sa/0THC6kI2",
      "include_colab_link": true
    },
    "kernelspec": {
      "name": "python3",
      "display_name": "Python 3"
    },
    "language_info": {
      "name": "python"
    }
  },
  "cells": [
    {
      "cell_type": "markdown",
      "metadata": {
        "id": "view-in-github",
        "colab_type": "text"
      },
      "source": [
        "<a href=\"https://colab.research.google.com/github/Kiel-Shui/OOP-58003/blob/main/Fundamentals_of_Python.ipynb\" target=\"_parent\"><img src=\"https://colab.research.google.com/assets/colab-badge.svg\" alt=\"Open In Colab\"/></a>"
      ]
    },
    {
      "cell_type": "code",
      "execution_count": null,
      "metadata": {
        "id": "Qlf_NT34qRbo"
      },
      "outputs": [],
      "source": [
        ""
      ]
    },
    {
      "cell_type": "markdown",
      "source": [
        "#Fundamentals of Python"
      ],
      "metadata": {
        "id": "FjJQTLvEqmNC"
      }
    },
    {
      "cell_type": "markdown",
      "source": [
        "Python Indentation"
      ],
      "metadata": {
        "id": "vkJlepWDrajq"
      }
    },
    {
      "cell_type": "code",
      "source": [
        "if 6>7:\n",
        "  print(\"6 is greater than 4\")\n",
        "else:\n",
        "  print(\"6 is less than a number\")"
      ],
      "metadata": {
        "colab": {
          "base_uri": "https://localhost:8080/"
        },
        "id": "crs75_EkrfF1",
        "outputId": "ac2a7f45-cbd2-4c45-86cd-6b0f22ec22f4"
      },
      "execution_count": 2,
      "outputs": [
        {
          "output_type": "stream",
          "name": "stdout",
          "text": [
            "6 is less than a number\n"
          ]
        }
      ]
    },
    {
      "cell_type": "markdown",
      "source": [
        "Python Comments"
      ],
      "metadata": {
        "id": "RUe2nbDHtocn"
      }
    },
    {
      "cell_type": "code",
      "source": [
        "print(\"Hello, World\") #This is a comment"
      ],
      "metadata": {
        "colab": {
          "base_uri": "https://localhost:8080/"
        },
        "id": "uo71O7WytrJ_",
        "outputId": "dca71387-88d2-4406-9f32-06bf70c45e9a"
      },
      "execution_count": 3,
      "outputs": [
        {
          "output_type": "stream",
          "name": "stdout",
          "text": [
            "Hello, World\n"
          ]
        }
      ]
    },
    {
      "cell_type": "markdown",
      "source": [
        "Python Variables"
      ],
      "metadata": {
        "id": "_HxM8g38twjr"
      }
    },
    {
      "cell_type": "markdown",
      "source": [
        "a=1\n",
        "b,c=0,2\n",
        "c,d,e=2,3,4\n",
        "\n",
        "name="
      ],
      "metadata": {
        "id": "f1waIORXt2pr"
      }
    },
    {
      "cell_type": "markdown",
      "source": [
        "Comparison Operators"
      ],
      "metadata": {
        "id": "RvC8rxxMzF0d"
      }
    },
    {
      "cell_type": "code",
      "source": [
        "s = 11\n",
        "t = 12\n",
        "s>t"
      ],
      "metadata": {
        "colab": {
          "base_uri": "https://localhost:8080/"
        },
        "id": "163SsDM9zH4Z",
        "outputId": "c8b9751f-9a15-41f9-a562-439a613e2d6a"
      },
      "execution_count": 4,
      "outputs": [
        {
          "output_type": "execute_result",
          "data": {
            "text/plain": [
              "False"
            ]
          },
          "metadata": {},
          "execution_count": 4
        }
      ]
    },
    {
      "cell_type": "markdown",
      "source": [
        "Logical Operators"
      ],
      "metadata": {
        "id": "6YHAJza6zLM2"
      }
    },
    {
      "cell_type": "code",
      "source": [
        "print(s>t and t>s)\n",
        "print(s>t or t>s)\n"
      ],
      "metadata": {
        "id": "urYMC3REzMoJ"
      },
      "execution_count": null,
      "outputs": []
    }
  ]
}