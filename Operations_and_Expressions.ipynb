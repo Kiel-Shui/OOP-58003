{
  "nbformat": 4,
  "nbformat_minor": 0,
  "metadata": {
    "colab": {
      "name": "Operations and Expressions.ipynb",
      "provenance": [],
      "authorship_tag": "ABX9TyPrnhwF/vJRwQ7WsDUUe3g2",
      "include_colab_link": true
    },
    "kernelspec": {
      "name": "python3",
      "display_name": "Python 3"
    },
    "language_info": {
      "name": "python"
    }
  },
  "cells": [
    {
      "cell_type": "markdown",
      "metadata": {
        "id": "view-in-github",
        "colab_type": "text"
      },
      "source": [
        "<a href=\"https://colab.research.google.com/github/Kiel-Shui/OOP-58003/blob/main/Operations_and_Expressions.ipynb\" target=\"_parent\"><img src=\"https://colab.research.google.com/assets/colab-badge.svg\" alt=\"Open In Colab\"/></a>"
      ]
    },
    {
      "cell_type": "markdown",
      "source": [
        "Boolean Operators"
      ],
      "metadata": {
        "id": "YnQ0KqCv2RB7"
      }
    },
    {
      "cell_type": "code",
      "source": [
        "a=10\n",
        "print(10>9)\n",
        "print(10<9)\n",
        "print(10==9)\n",
        "print(a>9)"
      ],
      "metadata": {
        "colab": {
          "base_uri": "https://localhost:8080/"
        },
        "id": "4QZLPf6U2S7B",
        "outputId": "16a1f6e3-89f0-409d-9450-6eb3f10057da"
      },
      "execution_count": 1,
      "outputs": [
        {
          "output_type": "stream",
          "name": "stdout",
          "text": [
            "True\n",
            "False\n",
            "False\n",
            "True\n"
          ]
        }
      ]
    },
    {
      "cell_type": "markdown",
      "source": [
        "Bool() Function"
      ],
      "metadata": {
        "id": "4QzXF1cc2dl6"
      }
    },
    {
      "cell_type": "code",
      "execution_count": 2,
      "metadata": {
        "colab": {
          "base_uri": "https://localhost:8080/"
        },
        "id": "TVTxlRbMwXiD",
        "outputId": "5b312e65-156d-46ed-9a81-4884c1324111"
      },
      "outputs": [
        {
          "output_type": "stream",
          "name": "stdout",
          "text": [
            "True\n",
            "True\n",
            "True\n",
            "False\n",
            "False\n",
            "False\n"
          ]
        }
      ],
      "source": [
        "print(bool(1))\n",
        "print(bool(\"Maria\"))\n",
        "print(bool('Ana'))\n",
        "print(bool(0))\n",
        "print(bool(None))\n",
        "print(bool([]))"
      ]
    },
    {
      "cell_type": "markdown",
      "source": [
        "Functions can Return a Boolean"
      ],
      "metadata": {
        "id": "DxKFhRHg3TfJ"
      }
    },
    {
      "cell_type": "code",
      "source": [
        "def myFunction():\n",
        "  return False\n",
        "\n",
        "print(myFunction())\n",
        "\n",
        " "
      ],
      "metadata": {
        "colab": {
          "base_uri": "https://localhost:8080/"
        },
        "id": "Pquq5B5J32iw",
        "outputId": "ac5ef5f1-4dc7-43ac-a817-6466af044be5"
      },
      "execution_count": 16,
      "outputs": [
        {
          "output_type": "stream",
          "name": "stdout",
          "text": [
            "False\n"
          ]
        }
      ]
    },
    {
      "cell_type": "code",
      "source": [
        "if myFunction():\n",
        "    \n",
        "    print(\"False\")\n",
        "else:\n",
        "    print(\"True\")"
      ],
      "metadata": {
        "colab": {
          "base_uri": "https://localhost:8080/"
        },
        "id": "CT2pBvFp4F9-",
        "outputId": "986943ac-1700-4850-b7f3-c5fd14289ac5"
      },
      "execution_count": 15,
      "outputs": [
        {
          "output_type": "stream",
          "name": "stdout",
          "text": [
            "True\n"
          ]
        }
      ]
    },
    {
      "cell_type": "markdown",
      "source": [
        "Application 1"
      ],
      "metadata": {
        "id": "mEYHxEgq5BoW"
      }
    },
    {
      "cell_type": "code",
      "source": [
        "a=6\n",
        "b=7\n",
        "print(a==b)\n",
        "print(a!=a)"
      ],
      "metadata": {
        "colab": {
          "base_uri": "https://localhost:8080/"
        },
        "id": "csATYK_s5HPu",
        "outputId": "27346a94-5f30-4707-fb4f-22b1f3083740"
      },
      "execution_count": 17,
      "outputs": [
        {
          "output_type": "stream",
          "name": "stdout",
          "text": [
            "False\n",
            "False\n"
          ]
        }
      ]
    },
    {
      "cell_type": "markdown",
      "source": [
        "Python Operators"
      ],
      "metadata": {
        "id": "O-kCP6FG5cac"
      }
    },
    {
      "cell_type": "code",
      "source": [
        "print(10+5)\n",
        "print(10-5)\n",
        "print(10*5)\n",
        "print(10/5)\n",
        "print(10%5)\n",
        "print(int(10/5))\n",
        "print(10/3)\n",
        "print(10//3)\n",
        "print(10**5)\n",
        "print(float(10**5))"
      ],
      "metadata": {
        "colab": {
          "base_uri": "https://localhost:8080/"
        },
        "id": "XT-F5hf75e1s",
        "outputId": "c6ad8f45-38db-487a-e293-ea7bf2c29341"
      },
      "execution_count": 20,
      "outputs": [
        {
          "output_type": "stream",
          "name": "stdout",
          "text": [
            "15\n",
            "5\n",
            "50\n",
            "2.0\n",
            "0\n",
            "2\n",
            "3.3333333333333335\n",
            "3\n",
            "100000\n",
            "100000.0\n"
          ]
        }
      ]
    },
    {
      "cell_type": "markdown",
      "source": [
        "Bitwise Operators"
      ],
      "metadata": {
        "id": "kuhA3qkh6Et1"
      }
    },
    {
      "cell_type": "code",
      "source": [
        "a=60\n",
        "b=13\n",
        "print(a&b)\n",
        "print(a|b)\n",
        "print(a^b)\n",
        "print(a<<1)\n",
        "print(a>>1)"
      ],
      "metadata": {
        "colab": {
          "base_uri": "https://localhost:8080/"
        },
        "id": "Nq1ls1XB6aF-",
        "outputId": "515ae052-fab7-45f5-f41d-a62132e5eea6"
      },
      "execution_count": 23,
      "outputs": [
        {
          "output_type": "stream",
          "name": "stdout",
          "text": [
            "12\n",
            "61\n",
            "49\n",
            "120\n",
            "30\n"
          ]
        }
      ]
    },
    {
      "cell_type": "markdown",
      "source": [
        "Application 2"
      ],
      "metadata": {
        "id": "XgfYt-nX6xjg"
      }
    },
    {
      "cell_type": "code",
      "source": [
        "x=5\n",
        "y=5\n",
        "z=5\n",
        "a=5\n",
        "b=5\n",
        "x += 3\n",
        "y -= 3\n",
        "z *= 3\n",
        "a /= 3\n",
        "b %= 3\n",
        "print(x)\n",
        "print(y)\n",
        "print(z)\n",
        "print(a)\n",
        "print(b)"
      ],
      "metadata": {
        "colab": {
          "base_uri": "https://localhost:8080/"
        },
        "id": "xKnRfMbi6zFa",
        "outputId": "3043d480-25b7-426d-cfd4-1f98ce7ffd99"
      },
      "execution_count": 39,
      "outputs": [
        {
          "output_type": "stream",
          "name": "stdout",
          "text": [
            "8\n",
            "2\n",
            "15\n",
            "1.6666666666666667\n",
            "2\n"
          ]
        }
      ]
    },
    {
      "cell_type": "markdown",
      "source": [
        "Logical Operators"
      ],
      "metadata": {
        "id": "UmuWDQ6T9Uur"
      }
    },
    {
      "cell_type": "code",
      "source": [
        "s=True\n",
        "t=False\n",
        "not(s and t)"
      ],
      "metadata": {
        "colab": {
          "base_uri": "https://localhost:8080/"
        },
        "id": "cebMeZKW9WPB",
        "outputId": "81514671-c58b-4bca-e139-3aaeb850f946"
      },
      "execution_count": 40,
      "outputs": [
        {
          "output_type": "execute_result",
          "data": {
            "text/plain": [
              "True"
            ]
          },
          "metadata": {},
          "execution_count": 40
        }
      ]
    },
    {
      "cell_type": "markdown",
      "source": [
        "Identity Operators"
      ],
      "metadata": {
        "id": "Qxr52fdk9h8B"
      }
    },
    {
      "cell_type": "code",
      "source": [
        "s is t\n",
        "s is not t"
      ],
      "metadata": {
        "colab": {
          "base_uri": "https://localhost:8080/"
        },
        "id": "Y6lyQ1Pb9mSD",
        "outputId": "0c1bf576-8bd2-4c60-c2bf-085280afcb05"
      },
      "execution_count": 41,
      "outputs": [
        {
          "output_type": "execute_result",
          "data": {
            "text/plain": [
              "True"
            ]
          },
          "metadata": {},
          "execution_count": 41
        }
      ]
    },
    {
      "cell_type": "markdown",
      "source": [
        "#Control Structure"
      ],
      "metadata": {
        "id": "piWHyTtz97Vr"
      }
    },
    {
      "cell_type": "markdown",
      "source": [
        "If Statement"
      ],
      "metadata": {
        "id": "ymmZCUWK-m15"
      }
    },
    {
      "cell_type": "code",
      "source": [
        "g=100\n",
        "h=50\n",
        "if g>h:\n",
        "  print(\"g is greater than h\")"
      ],
      "metadata": {
        "colab": {
          "base_uri": "https://localhost:8080/"
        },
        "id": "JxIs6uON9-jd",
        "outputId": "2bbbf900-bda4-464a-879d-5f56d7941ee8"
      },
      "execution_count": 45,
      "outputs": [
        {
          "output_type": "stream",
          "name": "stdout",
          "text": [
            "g is greater than h\n"
          ]
        }
      ]
    },
    {
      "cell_type": "markdown",
      "source": [
        "Elif Statement"
      ],
      "metadata": {
        "id": "v99gENsq_Jqn"
      }
    },
    {
      "cell_type": "code",
      "source": [
        "a=30\n",
        "b=50\n",
        "if a>b:\n",
        "  print(\"a is greater than b\")\n",
        "elif a<b:\n",
        "  print(\"a is less than b\")"
      ],
      "metadata": {
        "colab": {
          "base_uri": "https://localhost:8080/"
        },
        "id": "P7_HTbdd_Lkd",
        "outputId": "598e566b-7ef7-4c9b-d743-8d30a286e97e"
      },
      "execution_count": 48,
      "outputs": [
        {
          "output_type": "stream",
          "name": "stdout",
          "text": [
            "a is less than b\n"
          ]
        }
      ]
    },
    {
      "cell_type": "markdown",
      "source": [
        "Else Statement"
      ],
      "metadata": {
        "id": "F2KaUyPD_Ve-"
      }
    },
    {
      "cell_type": "code",
      "source": [
        "x=20\n",
        "y=20\n",
        "if x>y:\n",
        "  print(\"x is greater than y\")\n",
        "elif x<y:\n",
        "  print(\"x is less than y\")\n",
        "else:\n",
        "  print(\"x is equal to y\")"
      ],
      "metadata": {
        "colab": {
          "base_uri": "https://localhost:8080/"
        },
        "id": "h6RzcXzU_W7q",
        "outputId": "a44375c7-4657-41f4-ba27-a0ac9fe05c97"
      },
      "execution_count": 49,
      "outputs": [
        {
          "output_type": "stream",
          "name": "stdout",
          "text": [
            "x is equal to y\n"
          ]
        }
      ]
    },
    {
      "cell_type": "markdown",
      "source": [
        "Short Hand If.. Else Statement"
      ],
      "metadata": {
        "id": "DosFZLAbECK3"
      }
    },
    {
      "cell_type": "code",
      "source": [
        "print(\"G\") if g>h else print(\"H\")"
      ],
      "metadata": {
        "colab": {
          "base_uri": "https://localhost:8080/"
        },
        "id": "PtPHLfpaEFpf",
        "outputId": "ae76bfab-386f-4f83-fd27-1d88ef2b5a15"
      },
      "execution_count": 50,
      "outputs": [
        {
          "output_type": "stream",
          "name": "stdout",
          "text": [
            "G\n"
          ]
        }
      ]
    },
    {
      "cell_type": "markdown",
      "source": [
        "Nested If.. Else"
      ],
      "metadata": {
        "id": "dVU-VfftERyQ"
      }
    },
    {
      "cell_type": "code",
      "source": [
        "x=41\n",
        "\n",
        "if x>10:\n",
        "  print(\"x is above 10\")\n",
        "  if x>20:\n",
        "    print(\"and also above 20\")\n",
        "    if x>30:\n",
        "      print(\"and also above 30\")\n",
        "      if x>40:\n",
        "        print(\"and also above 40\")\n",
        "        if x>50:\n",
        "          print(\"and also above 50\")\n",
        "        else:\n",
        "          print(\"but not above 10\")"
      ],
      "metadata": {
        "colab": {
          "base_uri": "https://localhost:8080/"
        },
        "id": "kl6OmIWkEZmv",
        "outputId": "c4eb90a9-5da1-4807-cb16-f58d82405605"
      },
      "execution_count": 52,
      "outputs": [
        {
          "output_type": "stream",
          "name": "stdout",
          "text": [
            "x is above 10\n",
            "and also above 20\n",
            "and also above 30\n",
            "and also above 40\n",
            "but not above 10\n"
          ]
        }
      ]
    },
    {
      "cell_type": "markdown",
      "source": [
        "Application 3 - Write a program that determines if the input age is qualified to vote or not. The qualifying age is 18 years old and above."
      ],
      "metadata": {
        "id": "VwTAZ58FFpjt"
      }
    },
    {
      "cell_type": "code",
      "source": [
        "age=int(input(\"Your age: \"))\n",
        "\n",
        "if age>17:\n",
        "  print(\"You are qualified to vote!\")\n",
        "else:\n",
        "  print(\"You're not allowed to vote!\")\n"
      ],
      "metadata": {
        "colab": {
          "base_uri": "https://localhost:8080/"
        },
        "id": "a4hZwzZ7F4T4",
        "outputId": "6ddbe5bd-27e5-4650-b809-3be12116577b"
      },
      "execution_count": 58,
      "outputs": [
        {
          "output_type": "stream",
          "name": "stdout",
          "text": [
            "Your age: 18\n",
            "You are qualified to vote!\n"
          ]
        }
      ]
    },
    {
      "cell_type": "markdown",
      "source": [
        "#Loop Statement"
      ],
      "metadata": {
        "id": "I1Vao8eaHC2J"
      }
    },
    {
      "cell_type": "markdown",
      "source": [
        "For Loop"
      ],
      "metadata": {
        "id": "3fq2orRIHFhD"
      }
    },
    {
      "cell_type": "code",
      "source": [
        "week=['Sunday','Monday','Tuesday','Wednesday','Thursday','Friday','Saturday',]\n",
        "season=['rainy','sunny']\n",
        "\n",
        "for x in week:\n",
        "  for y in season:\n",
        "    print(y,x)"
      ],
      "metadata": {
        "colab": {
          "base_uri": "https://localhost:8080/"
        },
        "id": "rd6SrmoXHGve",
        "outputId": "2fbad4f7-cd7d-43c5-9425-e0b29678df11"
      },
      "execution_count": 59,
      "outputs": [
        {
          "output_type": "stream",
          "name": "stdout",
          "text": [
            "rainy Sunday\n",
            "sunny Sunday\n",
            "rainy Monday\n",
            "sunny Monday\n",
            "rainy Tuesday\n",
            "sunny Tuesday\n",
            "rainy Wednesday\n",
            "sunny Wednesday\n",
            "rainy Thursday\n",
            "sunny Thursday\n",
            "rainy Friday\n",
            "sunny Friday\n",
            "rainy Saturday\n",
            "sunny Saturday\n"
          ]
        }
      ]
    },
    {
      "cell_type": "markdown",
      "source": [
        "Break Statement"
      ],
      "metadata": {
        "id": "GCBC2FZJHr3Z"
      }
    },
    {
      "cell_type": "code",
      "source": [
        "for x in week:\n",
        "  if x==\"Friday\":\n",
        "    break\n",
        "  print(x)"
      ],
      "metadata": {
        "colab": {
          "base_uri": "https://localhost:8080/"
        },
        "id": "jv5RKH33Htil",
        "outputId": "76cce910-a1d6-469b-a03f-7bc11cf07e5e"
      },
      "execution_count": 65,
      "outputs": [
        {
          "output_type": "stream",
          "name": "stdout",
          "text": [
            "Sunday\n",
            "Monday\n",
            "Tuesday\n",
            "Wednesday\n",
            "Thursday\n"
          ]
        }
      ]
    },
    {
      "cell_type": "code",
      "source": [
        "#To stop at Friday\n",
        "\n",
        "    "
      ],
      "metadata": {
        "colab": {
          "base_uri": "https://localhost:8080/"
        },
        "id": "RClI6DWlIXB8",
        "outputId": "c7edb277-6a02-473d-9b90-a90b6ca7693d"
      },
      "execution_count": 66,
      "outputs": [
        {
          "output_type": "stream",
          "name": "stdout",
          "text": [
            "Sunday\n",
            "Monday\n",
            "Tuesday\n",
            "Wednesday\n",
            "Thursday\n",
            "Friday\n"
          ]
        }
      ]
    },
    {
      "cell_type": "markdown",
      "source": [
        "Application 4 - To display only \"Friday\""
      ],
      "metadata": {
        "id": "s_IUKy8NH85Q"
      }
    },
    {
      "cell_type": "code",
      "source": [
        "for x in week:\n",
        "  if x==\"Friday\":\n",
        "    print(x)\n",
        "    break"
      ],
      "metadata": {
        "colab": {
          "base_uri": "https://localhost:8080/"
        },
        "id": "ls3DaPkrInvF",
        "outputId": "efc85825-f5cf-4331-f073-9804070d2b17"
      },
      "execution_count": 67,
      "outputs": [
        {
          "output_type": "stream",
          "name": "stdout",
          "text": [
            "Friday\n"
          ]
        }
      ]
    },
    {
      "cell_type": "markdown",
      "source": [
        "While Loop"
      ],
      "metadata": {
        "id": "Ek-eiRSMIut2"
      }
    },
    {
      "cell_type": "code",
      "source": [
        "i=1\n",
        "while i<6:\n",
        "  print(i)\n",
        "  i+=1"
      ],
      "metadata": {
        "colab": {
          "base_uri": "https://localhost:8080/"
        },
        "id": "XZ0iSbxkIvz4",
        "outputId": "21100598-cdea-4084-ac0e-bf4d7a9b0b6b"
      },
      "execution_count": 68,
      "outputs": [
        {
          "output_type": "stream",
          "name": "stdout",
          "text": [
            "1\n",
            "2\n",
            "3\n",
            "4\n",
            "5\n"
          ]
        }
      ]
    },
    {
      "cell_type": "markdown",
      "source": [
        "Application 5 - To display only no.2 using break statement"
      ],
      "metadata": {
        "id": "jjbBl5yII5ka"
      }
    },
    {
      "cell_type": "code",
      "source": [
        "i=1\n",
        "while i<6:\n",
        "  if i==2:\n",
        "    print(i)\n",
        "    break\n",
        "  i+=1"
      ],
      "metadata": {
        "colab": {
          "base_uri": "https://localhost:8080/"
        },
        "id": "EYVYAYtEI-Rt",
        "outputId": "149a8495-d3fa-4829-f41e-d92c12c70b72"
      },
      "execution_count": 71,
      "outputs": [
        {
          "output_type": "stream",
          "name": "stdout",
          "text": [
            "2\n"
          ]
        }
      ]
    }
  ]
}